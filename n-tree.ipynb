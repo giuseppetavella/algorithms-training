{
 "cells": [
  {
   "cell_type": "code",
   "execution_count": 16,
   "id": "0a0a7c00",
   "metadata": {
    "scrolled": false
   },
   "outputs": [
    {
     "data": {
      "text/plain": [
       "{'_id': 'b946',\n",
       " 'node': 0,\n",
       " 'depth': 0,\n",
       " 'children': {'1-1': {'_id': 'ad17',\n",
       "   'node': 1,\n",
       "   'depth': 1,\n",
       "   'children': {'1-2': {'_id': '2855',\n",
       "     'node': 1,\n",
       "     'depth': 2,\n",
       "     'children': {'1-3': {'_id': '09f6',\n",
       "       'node': 1,\n",
       "       'depth': 3,\n",
       "       'children': {}},\n",
       "      '2-3': {'_id': 'ae38', 'node': 2, 'depth': 3, 'children': {}}}},\n",
       "    '2-2': {'_id': 'ef54',\n",
       "     'node': 2,\n",
       "     'depth': 2,\n",
       "     'children': {'1-3': {'_id': '5e8e',\n",
       "       'node': 1,\n",
       "       'depth': 3,\n",
       "       'children': {}},\n",
       "      '2-3': {'_id': '832d', 'node': 2, 'depth': 3, 'children': {}}}}}},\n",
       "  '2-1': {'_id': '422e',\n",
       "   'node': 2,\n",
       "   'depth': 1,\n",
       "   'children': {'1-2': {'_id': '681c',\n",
       "     'node': 1,\n",
       "     'depth': 2,\n",
       "     'children': {'1-3': {'_id': '5936',\n",
       "       'node': 1,\n",
       "       'depth': 3,\n",
       "       'children': {}},\n",
       "      '2-3': {'_id': '616c', 'node': 2, 'depth': 3, 'children': {}}}},\n",
       "    '2-2': {'_id': 'e6a1',\n",
       "     'node': 2,\n",
       "     'depth': 2,\n",
       "     'children': {'1-3': {'_id': 'cd51',\n",
       "       'node': 1,\n",
       "       'depth': 3,\n",
       "       'children': {}},\n",
       "      '2-3': {'_id': 'e365', 'node': 2, 'depth': 3, 'children': {}}}}}}}}"
      ]
     },
     "execution_count": 16,
     "metadata": {},
     "output_type": "execute_result"
    }
   ],
   "source": [
    "import uuid\n",
    "\n",
    "tree = {'_id': new_id(), 'node': 0, 'depth': 0, 'children': {}}\n",
    "\n",
    "\n",
    "def create_tree(nodes, depth):\n",
    "    def treefn(last_node, count):\n",
    "        if count == depth:\n",
    "            return\n",
    "        count += 1\n",
    "        for n in range(nodes):\n",
    "            l = new_label(n, count)\n",
    "            last_node[l] = {'_id': new_id(), 'node': n+1, 'depth': count,'children': {}} \n",
    "            treefn(last_node[l]['children'], count)\n",
    "    treefn(tree['children'], 0)\n",
    "    return tree\n",
    "\n",
    "\n",
    "\n",
    "def new_id():\n",
    "    return str(uuid.uuid4()).split('-')[1]\n",
    "\n",
    "\n",
    "def new_label(n, count):\n",
    "    return str(n+1) + '-' + str(count)\n",
    "\n",
    "\n",
    "    \n",
    "create_tree(2, 3)"
   ]
  },
  {
   "cell_type": "code",
   "execution_count": 27,
   "id": "ab3abb0a",
   "metadata": {},
   "outputs": [
    {
     "data": {
      "text/plain": [
       "{'_id': 'e6a1',\n",
       " 'parent_id': '422e',\n",
       " 'parent': {'_id': '422e',\n",
       "  'node': 2,\n",
       "  'depth': 1,\n",
       "  'children': {'1-2': {'_id': '681c',\n",
       "    'node': 1,\n",
       "    'depth': 2,\n",
       "    'children': {'1-3': {'_id': '5936', 'node': 1, 'depth': 3, 'children': {}},\n",
       "     '2-3': {'_id': '616c', 'node': 2, 'depth': 3, 'children': {}}}},\n",
       "   '2-2': {'_id': 'e6a1',\n",
       "    'node': 2,\n",
       "    'depth': 2,\n",
       "    'children': {'1-3': {'_id': 'cd51', 'node': 1, 'depth': 3, 'children': {}},\n",
       "     '2-3': {'_id': 'e365', 'node': 2, 'depth': 3, 'children': {}}}}}},\n",
       " 'siblings': ['1-2', '2-2']}"
      ]
     },
     "execution_count": 27,
     "metadata": {},
     "output_type": "execute_result"
    }
   ],
   "source": [
    "# implement mechanism to check that targets are less than nodes and depth of tree\n",
    "def find_node(target_node, target_depth):\n",
    "    result = {}\n",
    "    \n",
    "    def find_n(parent):\n",
    "        children = parent['children']\n",
    "        for child_key in children.keys():\n",
    "            this_child = children[child_key]\n",
    "            child_id = this_child['_id']\n",
    "            child_node = this_child['node']\n",
    "            child_depth = this_child['depth']\n",
    "            # improve if, it needs to be more specific on what user is asking \n",
    "            if child_node == target_node and child_depth == target_depth:\n",
    "                parent_id = parent['_id']\n",
    "                parent_node = parent['node']\n",
    "                parent_depth = parent['depth']\n",
    "                result['_id'] = child_id\n",
    "                result['parent_id'] = parent_id\n",
    "                result['parent'] = parent\n",
    "                result['siblings'] = list(children.keys())\n",
    "                return\n",
    "            find_n(this_child)\n",
    "    find_n(tree)\n",
    "    return result\n",
    "\n",
    "\n",
    "\n",
    "\n",
    "def find_parent():\n",
    "    pass\n",
    "\n",
    "\n",
    "\n",
    "def find_sibling(target_node, target_depth):\n",
    "    pass\n",
    "    \n",
    "    \n",
    "    \n",
    "\n",
    "\n",
    "\n",
    "find_node(2, 2)"
   ]
  }
 ],
 "metadata": {
  "kernelspec": {
   "display_name": "Python 3 (ipykernel)",
   "language": "python",
   "name": "python3"
  },
  "language_info": {
   "codemirror_mode": {
    "name": "ipython",
    "version": 3
   },
   "file_extension": ".py",
   "mimetype": "text/x-python",
   "name": "python",
   "nbconvert_exporter": "python",
   "pygments_lexer": "ipython3",
   "version": "3.9.12"
  }
 },
 "nbformat": 4,
 "nbformat_minor": 5
}
